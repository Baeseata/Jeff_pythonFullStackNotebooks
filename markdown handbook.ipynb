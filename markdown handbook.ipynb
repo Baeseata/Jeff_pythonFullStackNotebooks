{
 "cells": [
  {
   "cell_type": "markdown",
   "id": "73cc543b",
   "metadata": {},
   "source": [
    "# Jeff Python Full Stack notebooks - markdown\n",
    "\n",
    "                                                By GXY\n",
    "---"
   ]
  },
  {
   "cell_type": "markdown",
   "id": "b825c851",
   "metadata": {},
   "source": [
    "## Code block\n",
    "```java\n",
    "/*\n",
    "type ```language name``` to create a code block\n",
    "like ```python```, ```java```, ```shell```\n",
    "*/\n",
    "```\n",
    "### example\n",
    "```java\n",
    "public class Block{\n",
    "    this.block = isJavaBlock\n",
    "}\n",
    "```\n",
    "---"
   ]
  },
  {
   "cell_type": "markdown",
   "id": "1877e780",
   "metadata": {},
   "source": [
    "## Title\n",
    "```java\n",
    "/*\n",
    "# primary title\n",
    "## secondary title\n",
    "### three-level title\n",
    "#### \n",
    "#####\n",
    "######\n",
    "*/\n",
    "```\n",
    "\n",
    "### example\n",
    "\n",
    "# Title\n",
    "## Title\n",
    "### Title\n",
    "#### Title\n",
    "##### Title\n",
    "###### Title\n",
    "---"
   ]
  },
  {
   "cell_type": "markdown",
   "id": "60553e1c",
   "metadata": {},
   "source": [
    "## Fonts\n",
    "**Bold**:\n",
    "```java \n",
    "//**content**\n",
    "```\n",
    "<mark>Highlight</mark>\n",
    "```java \n",
    "//==content== or <mark>content</mark>\n",
    "```\n",
    "~~Strickthrough~~\n",
    "```java \n",
    "//~~content~~\n",
    "```\n",
    "*Italic*\n",
    "```java \n",
    "//*content*\n",
    "```\n",
    "---"
   ]
  },
  {
   "cell_type": "markdown",
   "id": "66378991",
   "metadata": {},
   "source": [
    "## Reference & Cutting line\n",
    "\n",
    "```java\n",
    "/*\n",
    ">primary reference\n",
    ">>secondary reference\n",
    ">>>third-level reference\n",
    "\n",
    "cutting line: --- or ***\n",
    "*/\n",
    "```\n",
    "### example\n",
    ">primary reference\n",
    ">>secondary reference\n",
    ">>>third-level reference\n",
    "---"
   ]
  },
  {
   "cell_type": "markdown",
   "id": "0fc569b2",
   "metadata": {},
   "source": [
    "## Image Insertion & Hyperlink\n",
    "```java\n",
    "//type \"![name](address)\" to insert an image from local or internet\n",
    "//type \"[name](address)\" to form an hyperlink\n",
    "```\n",
    "### example\n",
    "```java\n",
    "[apple canada](https://www.apple.com/ca/)\n",
    "```\n",
    "[apple canada](https://www.apple.com/ca/)\n",
    "```java\n",
    "![](Source/continuity__dgqzd54dz6ky_large_2x.jpg)\n",
    "```\n",
    "![](Source/continuity__dgqzd54dz6ky_large_2x.jpg)\n",
    "```java\n",
    "![](https://www.apple.com/v/iphone-13-pro/d/images/overview/camera/intro/camera_system__f9pkhq4g2oy2_large_2x.png)\n",
    "```\n",
    "![](https://www.apple.com/v/iphone-13-pro/d/images/overview/camera/intro/camera_system__f9pkhq4g2oy2_large_2x.png)\n",
    "\n",
    "---"
   ]
  },
  {
   "cell_type": "markdown",
   "id": "e2de3b2c",
   "metadata": {},
   "source": [
    "## List & Sheet\n",
    "```java\n",
    "//type \"- + space\" or \"number + . + space\" to form a list\n",
    "//type \"| + entry + |\" to form a single sheet entry\n",
    "```\n",
    "### example\n",
    "- A\n",
    "- B\n",
    "- C\n",
    "1. \n",
    "2. \n",
    "5. \n",
    "| column | column | column |\n",
    "| --| ----: | :----: |\n",
    "| entry | entry | entry |\n",
    "| entry | entry | entry |\n",
    "\n",
    "---"
   ]
  },
  {
   "cell_type": "markdown",
   "id": "53b4c5d4",
   "metadata": {},
   "source": []
  },
  {
   "cell_type": "markdown",
   "id": "9746a07b",
   "metadata": {},
   "source": []
  },
  {
   "cell_type": "markdown",
   "id": "130ec462",
   "metadata": {},
   "source": []
  },
  {
   "cell_type": "markdown",
   "id": "1e9bdb1e",
   "metadata": {},
   "source": []
  }
 ],
 "metadata": {
  "kernelspec": {
   "display_name": "Python 3 (ipykernel)",
   "language": "python",
   "name": "python3"
  },
  "language_info": {
   "codemirror_mode": {
    "name": "ipython",
    "version": 3
   },
   "file_extension": ".py",
   "mimetype": "text/x-python",
   "name": "python",
   "nbconvert_exporter": "python",
   "pygments_lexer": "ipython3",
   "version": "3.8.12"
  }
 },
 "nbformat": 4,
 "nbformat_minor": 5
}
